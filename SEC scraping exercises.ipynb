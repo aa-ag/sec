{
 "cells": [
  {
   "cell_type": "code",
   "execution_count": 1,
   "metadata": {},
   "outputs": [],
   "source": [
    "import requests\n",
    "import urllib\n",
    "from bs4 import BeautifulSoup"
   ]
  },
  {
   "cell_type": "code",
   "execution_count": 2,
   "metadata": {},
   "outputs": [
    {
     "data": {
      "text/plain": [
       "'https://www.sec.gov/Archives/edgar/data/886982/000156459019011378/0001564590-19-011378-index-headers.html'"
      ]
     },
     "execution_count": 2,
     "metadata": {},
     "output_type": "execute_result"
    }
   ],
   "source": [
    "def make_url(base_url , comp):\n",
    "    \n",
    "    url = base_url\n",
    "    \n",
    "    # add each component to the base url\n",
    "    for r in comp:\n",
    "        url = '{}/{}'.format(url, r)\n",
    "        \n",
    "    return url\n",
    "\n",
    "# EXAMPLE\n",
    "base_url = r\"https://www.sec.gov/Archives/edgar/data\"\n",
    "components = ['886982','000156459019011378', '0001564590-19-011378-index-headers.html']\n",
    "make_url(base_url, components)"
   ]
  },
  {
   "cell_type": "code",
   "execution_count": 3,
   "metadata": {},
   "outputs": [
    {
     "name": "stdout",
     "output_type": "stream",
     "text": [
      "----------------------------------------------------------------------------------------------------\n",
      "Grabbing filing : 000144554620003333\n",
      "https://www.sec.gov/Archives/edgar/data/0001490281/000144554620003333/0001445546-20-003333-index-headers.html\n",
      "https://www.sec.gov/Archives/edgar/data/0001490281/000144554620003333/0001445546-20-003333-index.html\n",
      "https://www.sec.gov/Archives/edgar/data/0001490281/000144554620003333/0001445546-20-003333.txt\n",
      "https://www.sec.gov/Archives/edgar/data/0001490281/000144554620003333/ex99_3.txt\n",
      "https://www.sec.gov/Archives/edgar/data/0001490281/000144554620003333/sc13g_3.txt\n",
      "----------------------------------------------------------------------------------------------------\n",
      "Grabbing filing : 000149028120000105\n",
      "https://www.sec.gov/Archives/edgar/data/0001490281/000149028120000105/0001490281-20-000105-index-headers.html\n",
      "https://www.sec.gov/Archives/edgar/data/0001490281/000149028120000105/0001490281-20-000105-index.html\n",
      "https://www.sec.gov/Archives/edgar/data/0001490281/000149028120000105/0001490281-20-000105.txt\n",
      "https://www.sec.gov/Archives/edgar/data/0001490281/000149028120000105/wf-form4_159286353000668.xml\n"
     ]
    }
   ],
   "source": [
    "base_url = r\"https://www.sec.gov/Archives/edgar/data\"\n",
    "\n",
    "# define a company to search (Groupon), this requires a CIK number that is defined by the SEC.\n",
    "cik_num = '0001490281'\n",
    "\n",
    "# let's get all the filings for Groupon in a json format.\n",
    "# Alternative is .html & .xml\n",
    "filings_url = make_url(base_url, [cik_num, 'index.json'])\n",
    "\n",
    "# Get the filings and then decode it into a dictionary object.\n",
    "content = requests.get(filings_url)\n",
    "decoded_content = content.json()\n",
    "\n",
    "# Get a filing number, this way we can request all the documents that were submitted.\n",
    "# HERE I AM JUST GRABBING CERTAIN FILINGS FOR READABILITY REMOVE [3:5] TO GRAB THEM ALL.\n",
    "for filing_number in decoded_content['directory']['item'][3:5]:    \n",
    "    \n",
    "    filing_num = filing_number['name']\n",
    "    print('-'*100)\n",
    "    print('Grabbing filing : {}'.format(filing_num))\n",
    "    \n",
    "    # define the filing url, again I want all the data back as JSON.\n",
    "    filing_url = make_url(base_url, [cik_num, filing_num, 'index.json'])\n",
    "\n",
    "    # Get the documents submitted for that filing.\n",
    "    content = requests.get(filing_url)\n",
    "    document_content = content.json()\n",
    "\n",
    "    # get a document name\n",
    "    for document in document_content['directory']['item']:\n",
    "        document_name = document['name']\n",
    "        filing_url = make_url(base_url, [cik_num, filing_num, document_name])\n",
    "        print(filing_url)"
   ]
  },
  {
   "cell_type": "code",
   "execution_count": null,
   "metadata": {},
   "outputs": [],
   "source": []
  }
 ],
 "metadata": {
  "kernelspec": {
   "display_name": "Python 3",
   "language": "python",
   "name": "python3"
  },
  "language_info": {
   "codemirror_mode": {
    "name": "ipython",
    "version": 3
   },
   "file_extension": ".py",
   "mimetype": "text/x-python",
   "name": "python",
   "nbconvert_exporter": "python",
   "pygments_lexer": "ipython3",
   "version": "3.7.6"
  }
 },
 "nbformat": 4,
 "nbformat_minor": 4
}
